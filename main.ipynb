{
 "cells": [
  {
   "cell_type": "markdown",
   "metadata": {},
   "source": [
    "# This is the project in Optimization 1"
   ]
  },
  {
   "cell_type": "code",
   "execution_count": 1,
   "metadata": {},
   "outputs": [],
   "source": [
    "from functions import *\n",
    "\n",
    "import numpy as np\n",
    "import matplotlib.pyplot as plt\n",
    "from numpy.random import default_rng\n",
    "from sklearn.metrics.pairwise import pairwise_kernels\n"
   ]
  },
  {
   "cell_type": "code",
   "execution_count": 2,
   "metadata": {},
   "outputs": [
    {
     "data": {
      "image/png": "[encoded data removed]",
      "text/plain": [
       "<Figure size 640x480 with 1 Axes>"
      ]
     },
     "metadata": {},
     "output_type": "display_data"
    }
   ],
   "source": [
    "w = np.array([1.,1.])\n",
    "b = 1.\n",
    "n_A = 4\n",
    "n_B = 2\n",
    "margin = 5.e-1\n",
    "listA,listB = TestLinear(w,b,n_A,n_B,margin)\n",
    "[plt.scatter(x[0],x[1],color=\"r\") for x in listA]\n",
    "[plt.scatter(x[0],x[1],color=\"b\") for x in listB]\n",
    "plt.show()\n"
   ]
  },
  {
   "cell_type": "code",
   "execution_count": 3,
   "metadata": {},
   "outputs": [
    {
     "name": "stdout",
     "output_type": "stream",
     "text": [
      "(6, 6)\n"
     ]
    }
   ],
   "source": [
    "x= np.concatenate((np.array(listA),np.array(listB)))\n",
    "\n",
    "y = np.concatenate((np.ones(n_A),-np.ones(n_B)))\n",
    "\n",
    "\n",
    "G = pairwise_kernels(x, metric = kernal_gaussian, sigma=1)\n",
    "\n",
    "print(np.shape(G))\n"
   ]
  },
  {
   "cell_type": "markdown",
   "metadata": {},
   "source": [
    "### Projected gradient descent algorithm\n",
    "\n",
    "\\begin{align*}\n",
    "    \\alpha^{(k+1)} &= \\alpha^{(k)}+ d^{(k)}\\\\\n",
    "    \\text{where}&\\\\\n",
    "    d^{(k)} & = \\pi _{\\Omega} \\left(\\alpha^{(k)}-\\tau_k \\nabla f(\\alpha^{(k)}) \\right) - \\alpha^{(k)}\n",
    "\\end{align*}\n",
    "\n",
    "\\begin{align*}\n",
    "    f(\\alpha) &:= \\frac{1}{2} \\langle\\alpha, YGY\\alpha\\rangle- \\langle1_M,\\alpha\\rangle\\\\\n",
    "    \\Omega &= \\{\\alpha \\in \\mathbb{R}^M : \\langle y, \\alpha \\rangle=0 \\quad \\text{and} \\quad 0\\leq \\alpha \\leq C \\}\n",
    "\\end{align*}\n",
    "\n",
    "is a feasible set, $\\pi_{\\Omega}$ denotes the projection onto $\\Omega$ and $\\tau_k >0$ is a suitible steplength.\n",
    "\n",
    "\n"
   ]
  },
  {
   "cell_type": "code",
   "execution_count": 4,
   "metadata": {},
   "outputs": [
    {
     "name": "stdout",
     "output_type": "stream",
     "text": [
      "[0.05428462 0.43566752 1.         0.51004813 1.         1.        ]\n"
     ]
    }
   ],
   "source": [
    "alpha0 = np.ones(n_A+n_B)\n",
    "tau = 0.01\n",
    "niter = 1000\n",
    "\n",
    "alpha = gradient_descent(alpha0, G, y, tau, niter)\n",
    "print(alpha)\n",
    "\n"
   ]
  },
  {
   "cell_type": "code",
   "execution_count": 5,
   "metadata": {},
   "outputs": [
    {
     "name": "stdout",
     "output_type": "stream",
     "text": [
      "6\n"
     ]
    }
   ],
   "source": [
    "#combining two vectors\n",
    "print(len(alpha))"
   ]
  }
 ],
 "metadata": {
  "kernelspec": {
   "display_name": "Python 3",
   "language": "python",
   "name": "python3"
  },
  "language_info": {
   "codemirror_mode": {
    "name": "ipython",
    "version": 3
   },
   "file_extension": ".py",
   "mimetype": "text/x-python",
   "name": "python",
   "nbconvert_exporter": "python",
   "pygments_lexer": "ipython3",
   "version": "3.13.1"
  }
 },
 "nbformat": 4,
 "nbformat_minor": 2
}
