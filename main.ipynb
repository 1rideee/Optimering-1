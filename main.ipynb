{
 "cells": [
  {
   "cell_type": "markdown",
   "metadata": {},
   "source": [
    "# This is the project in Optimization 1"
   ]
  },
  {
   "cell_type": "code",
   "execution_count": null,
   "metadata": {},
   "outputs": [],
   "source": [
    "from functions import *\n",
    "\n",
    "import numpy as np\n",
    "import matplotlib.pyplot as plt\n",
    "from numpy.random import default_rng\n",
    "from sklearn.metrics.pairwise import pairwise_kernels\n"
   ]
  },
  {
   "cell_type": "code",
   "execution_count": null,
   "metadata": {},
   "outputs": [],
   "source": [
    "w = np.array([1.,1.])\n",
    "b = 1.\n",
    "\n",
    "n= 10\n",
    "n_A = np.random.randint(0,n)\n",
    "n_B = n-n_A\n",
    "margin = 5.e-1\n",
    "listA,listB = TestLinear(w,b,n_A,n_B,margin)\n",
    "[plt.scatter(x[0],x[1],color=\"r\") for x in listA]\n",
    "[plt.scatter(x[0],x[1],color=\"b\") for x in listB]\n",
    "plt.show()\n"
   ]
  },
  {
   "cell_type": "code",
   "execution_count": null,
   "metadata": {},
   "outputs": [],
   "source": [
    "x= np.concatenate((np.array(listA),np.array(listB)))\n",
    "\n",
    "y = np.concatenate((np.ones(n_A), -np.ones(n_B)))\n",
    "\n",
    "\n",
    "G = pairwise_kernels(x, metric = kernal_gaussian, sigma = 1)\n",
    "\n",
    "print(np.shape(G))\n"
   ]
  },
  {
   "cell_type": "markdown",
   "metadata": {},
   "source": [
    "### Projected gradient descent algorithm\n",
    "\n",
    "\\begin{align*}\n",
    "    \\alpha^{(k+1)} &= \\alpha^{(k)}+ d^{(k)}\\\\\n",
    "    \\text{where}&\\\\\n",
    "    d^{(k)} & = \\pi _{\\Omega} \\left(\\alpha^{(k)}-\\tau_k \\nabla f(\\alpha^{(k)}) \\right) - \\alpha^{(k)}\n",
    "\\end{align*}\n",
    "\n",
    "\\begin{align*}\n",
    "    f(\\alpha) &:= \\frac{1}{2} \\langle\\alpha, YGY\\alpha\\rangle- \\langle1_M,\\alpha\\rangle\\\\\n",
    "    \\Omega &= \\{\\alpha \\in \\mathbb{R}^M : \\langle y, \\alpha \\rangle=0 \\quad \\text{and} \\quad 0\\leq \\alpha \\leq C \\}\n",
    "\\end{align*}\n",
    "\n",
    "is a feasible set, $\\pi_{\\Omega}$ denotes the projection onto $\\Omega$ and $\\tau_k >0$ is a suitible steplength.\n",
    "\n",
    "\n"
   ]
  },
  {
   "cell_type": "code",
   "execution_count": null,
   "metadata": {},
   "outputs": [],
   "source": [
    "def gradient_descent(alpha0, G, y , tau0, niter, C=100):\n",
    "    alpha = alpha0\n",
    "    Y = np.diag(y)\n",
    "    A = np.dot(Y,np.dot(G,Y))\n",
    "    tau = tau0\n",
    "\n",
    "    for i in range(niter):\n",
    "        \n",
    "        d_k = projection(alpha - tau*gradientf(alpha, A), y=y, Y=Y, C=C) - alpha\n",
    "        alpha = alpha + d_k \n",
    "\n",
    "        tau = BB_step_length(alpha-d_k, alpha, gradientf, A, taumax=1e5, taumin=1e-5)\n",
    "\n",
    "\n",
    "    return alpha\n",
    "\n",
    "def BB_step_length(ak, ak1, grad_f, A, taumax=1e5, taumin=1e-5):\n",
    "    '''\n",
    "    Determine the Barzilai-Borwein step length for the projected gradient descent\n",
    "    algorithm.\n",
    "\n",
    "    s^k = a ^{k+1} - a^k\n",
    "    z^k = grad_f(a^{k+1}) - grad_f(a^k)\n",
    "    '''\n",
    "    nevner =np.dot(ak1 - ak, grad_f(ak1, A) - grad_f(ak, A))\n",
    "    if  nevner<= 0:\n",
    "        return taumax\n",
    "    \n",
    "    tau = np.dot(ak1 - ak, ak1 - ak) / nevner\n",
    "    return min(max(tau, taumax), taumin)\n",
    "    \n",
    "\n",
    "alpha0 = np.ones(n_A+n_B)\n",
    "tau = 0.01\n",
    "niter = 1000\n",
    "C = 0.8\n",
    "alpha = gradient_descent(alpha0, G, y, tau, niter, C=0.8)\n",
    "print(alpha)\n",
    "\n"
   ]
  },
  {
   "cell_type": "code",
   "execution_count": null,
   "metadata": {},
   "outputs": [],
   "source": [
    "def w_b(alpha, y, x, C=0.8):\n",
    "    I_s = np.where(alpha > 0)\n",
    "    w = np.sum(alpha[I_s]*y[I_s]*x[I_s].T, axis=1) \n",
    "    temp = np.where(alpha[I_s]<C)\n",
    "    print()\n",
    "    index = temp[0][0]\n",
    "    b = y[index] - np.dot(w,x[index])\n",
    "    return w, b\n",
    "    \n",
    "def plot_solution(x, y, alpha, w, b):\n",
    "    plt.scatter(x[:,0], x[:,1], c=y)\n",
    "    plt.plot([-3, 3], [(b - w[0] * (-3)) / w[1], (b - w[0] * 3) / w[1]], 'k-')\n",
    "    plt.show()\n",
    "\n",
    "    \n",
    "w, b= w_b(alpha, y, x, C=0.8)\n",
    "\n",
    "plot_solution(x, y, alpha, w, b)\n",
    "\n",
    "\n"
   ]
  },
  {
   "cell_type": "code",
   "execution_count": null,
   "metadata": {},
   "outputs": [],
   "source": [
    "\n",
    "\n",
    "\n",
    "G = pairwise_kernels(x, metric = kernal_gaussian, sigma=0.5)\n",
    "alpha = gradient_descent(alpha0, G, y, tau, niter, C=0.8)\n",
    "\n",
    "print(alpha)\n",
    "w, b= w_b(alpha, y, x)\n",
    "plot_solution(x, y, alpha, w, b)\n",
    "\n",
    "G = pairwise_kernels(x, metric = kernal_inv_multiquadratic, sigma=0.5)\n",
    "alpha = gradient_descent(alpha0, G, y, tau, niter, C=0.8)\n",
    "\n",
    "w, b= w_b(alpha, y, x)\n",
    "plot_solution(x, y, alpha, w, b)\n",
    "\n",
    "\n",
    "G = pairwise_kernels(x, metric = kernal_laplacian, sigma=0.5)\n",
    "alpha = gradient_descent(alpha0, G, y, tau, niter, C=0.8)\n",
    "\n",
    "w, b= w_b(alpha, y, x)\n",
    "plot_solution(x, y, alpha, w, b)\n",
    "\n",
    "\n"
   ]
  }
 ],
 "metadata": {
  "kernelspec": {
   "display_name": "Python 3",
   "language": "python",
   "name": "python3"
  },
  "language_info": {
   "codemirror_mode": {
    "name": "ipython",
    "version": 3
   },
   "file_extension": ".py",
   "mimetype": "text/x-python",
   "name": "python",
   "nbconvert_exporter": "python",
   "pygments_lexer": "ipython3",
   "version": "3.13.1"
  }
 },
 "nbformat": 4,
 "nbformat_minor": 2
}
