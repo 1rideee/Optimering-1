{
 "cells": [
  {
   "cell_type": "markdown",
   "metadata": {},
   "source": [
    "# This is the project in Optimization 1"
   ]
  },
  {
   "cell_type": "code",
   "execution_count": null,
   "metadata": {},
   "outputs": [],
   "source": [
    "from functions import *\n",
    "import numpy as np\n",
    "import matplotlib.pyplot as plt\n",
    "from numpy.random import default_rng\n",
    "from sklearn.metrics.pairwise import pairwise_kernels\n"
   ]
  },
  {
   "cell_type": "code",
   "execution_count": null,
   "metadata": {},
   "outputs": [],
   "source": [
    "w = np.array([1.,1.])\n",
    "b = 1.\n",
    "n_A = 100\n",
    "n_B = 80\n",
    "margin = 5.e-1\n",
    "listA,listB = TestLinear(w,b,n_A,n_B,margin)\n",
    "[plt.scatter(x[0],x[1],color=\"r\") for x in listA]\n",
    "[plt.scatter(x[0],x[1],color=\"b\") for x in listB]\n",
    "plt.show()\n"
   ]
  },
  {
   "cell_type": "code",
   "execution_count": null,
   "metadata": {},
   "outputs": [],
   "source": [
    "x= np.array(listA)\n",
    "y = np.array([1]*n_A )\n",
    "\n",
    "G = pairwise_kernels(x, metric = kernal_gaussian, sigma=1)\n",
    "\n",
    "print(G)"
   ]
  },
  {
   "cell_type": "markdown",
   "metadata": {},
   "source": [
    "### Projected gradient descent algorithm\n",
    "\n",
    "\\begin{align*}\n",
    "    \\alpha^{(k+1)} &= \\alpha^{(k)}+ d^{(k)}\\\\\n",
    "    \\text{where}&\\\\\n",
    "    d^{(k)} & = \\pi _{\\Omega} \\left(\\alpha^{(k)}-\\tau_k \\nabla f(\\alpha^{(k)}) \\right) - \\alpha^{(k)}\n",
    "\\end{align*}\n",
    "\n",
    "\\begin{align*}\n",
    "    f(\\alpha) &:= \\frac{1}{2} \\langle\\alpha, YGY\\alpha\\rangle- \\langle1_M,\\alpha\\rangle\\\\\n",
    "    \\Omega &= \\{\\alpha \\in \\mathbb{R}^M : \\langle y, \\alpha \\rangle=0 \\quad \\text{and} \\quad 0\\leq \\alpha \\leq C \\}\n",
    "\\end{align*}\n",
    "\n",
    "is a feasible set, $\\pi_{\\Omega}$ denotes the projection onto $\\Omega$ and $\\tau_k >0$ is a suitible steplength.\n",
    "\n",
    "\n"
   ]
  },
  {
   "cell_type": "code",
   "execution_count": null,
   "metadata": {},
   "outputs": [],
   "source": [
    "def f(alpha, G, Y):\n",
    "    return 0.5*np.dot(alpha, np.dot(np.dot(Y, np.dot(G,Y)), alpha)) - np.sum(alpha)\n",
    "\n",
    "\n",
    "def gradientf(alpha, G, Y):\n",
    "    return np.dot(np.dot(G,Y), alpha) - 1\n",
    "    \n",
    "\n",
    "def gradient_descent(alpha0, G, Y, tau, niter):\n",
    "    alpha = alpha0\n",
    "\n",
    "    for i in range(niter):\n",
    "        d_k = projection(alpha - tau*gradientf(alpha, G, Y), G, Y) - alpha\n",
    "        alpha = alpha + d_k \n",
    "        \n",
    "        tau*gradientf(alpha, G, Y)\n",
    "    return alpha\n",
    "\n",
    "\n",
    "def projection(alpha, Y, C=1.0, tol=1e-6, max_iter=100):\n",
    "    y = np.diag(Y).flatten()  \n",
    "    beta = alpha.copy()\n",
    "    \n",
    "    \n",
    "    lambda_low, lambda_high = -10, 10  \n",
    "    for _ in range(max_iter):\n",
    "        lambda_mid = (lambda_low + lambda_high) / 2.0\n",
    "        \n",
    "        \n",
    "        projected_alpha = np.clip(beta + lambda_mid * y, 0, C)\n",
    "        \n",
    "        \n",
    "        constraint_value = np.dot(y, projected_alpha)\n",
    "        \n",
    "        if abs(constraint_value) < tol:\n",
    "            return projected_alpha  \n",
    "        \n",
    "        \n",
    "        if constraint_value > 0:\n",
    "            lambda_high = lambda_mid\n",
    "        else:\n",
    "            lambda_low = lambda_mid\n",
    "            \n",
    "    return projected_alpha \n",
    "\n",
    "alpha0 = np.ones(n_A)\n",
    "tau = 0.01\n",
    "niter = 1000\n",
    "alpha = gradient_descent(alpha0, G, y, tau, niter)\n",
    "print(alpha)\n",
    "\n"
   ]
  }
 ],
 "metadata": {
  "kernelspec": {
   "display_name": "Python 3",
   "language": "python",
   "name": "python3"
  },
  "language_info": {
   "codemirror_mode": {
    "name": "ipython",
    "version": 3
   },
   "file_extension": ".py",
   "mimetype": "text/x-python",
   "name": "python",
   "nbconvert_exporter": "python",
   "pygments_lexer": "ipython3",
   "version": "3.13.1"
  }
 },
 "nbformat": 4,
 "nbformat_minor": 2
}
