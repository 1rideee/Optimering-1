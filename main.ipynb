{
 "cells": [
  {
   "cell_type": "markdown",
   "metadata": {},
   "source": [
    "# This is the project in Optimization 1"
   ]
  },
  {
   "cell_type": "code",
   "execution_count": null,
   "metadata": {},
   "outputs": [],
   "source": [
    "from functions import *\n",
    "\n",
    "import numpy as np\n",
    "import matplotlib.pyplot as plt\n",
    "# from numpy.random import default_rng\n",
    "from sklearn.metrics.pairwise import pairwise_kernels\n"
   ]
  },
  {
   "cell_type": "code",
   "execution_count": null,
   "metadata": {},
   "outputs": [],
   "source": [
    "np.random.seed(42)\n",
    "w = np.array([1.,1.])\n",
    "b = 1.\n",
    "\n",
    "n = 100\n",
    "n_A = np.random.randint(0,n)\n",
    "n_B = n-n_A\n",
    "margin = 5.e-1\n",
    "listA, listB = TestLinear(w,b,n_A,n_B,margin)\n",
    "[plt.scatter(x[0],x[1],color=\"r\") for x in listA]\n",
    "[plt.scatter(x[0],x[1],color=\"b\") for x in listB]\n",
    "plt.show()\n"
   ]
  },
  {
   "cell_type": "code",
   "execution_count": null,
   "metadata": {},
   "outputs": [],
   "source": [
    "x = np.concatenate((np.array(listA),np.array(listB)))\n",
    "\n",
    "y = np.concatenate((np.ones(n_A), -np.ones(n_B)))\n",
    "\n",
    "G = pairwise_kernels(x, metric = kernal_linear)\n",
    "\n",
    "\n",
    "print(np.shape(G))\n"
   ]
  },
  {
   "cell_type": "code",
   "execution_count": null,
   "metadata": {},
   "outputs": [],
   "source": [
    "\n",
    "alpha0 = np.ones(n_A+n_B)\n",
    "tau = 0.1\n",
    "niter = 1000\n",
    "C = 100000\n"
   ]
  },
  {
   "cell_type": "code",
   "execution_count": null,
   "metadata": {},
   "outputs": [],
   "source": [
    "alpha = gradient_descent(alpha0, G, y, tau, niter=1000, C=C, tol=1e-8)\n"
   ]
  },
  {
   "cell_type": "code",
   "execution_count": null,
   "metadata": {},
   "outputs": [],
   "source": [
    "def w_b(alpha, y, x, C=0.8):\n",
    "    \n",
    "    # I_s = np.where(alpha > 0 and alpha < C)\n",
    "    I_s = [i for i in range(len(alpha)) if alpha[i] > 0 and alpha[i] < C]\n",
    "    \n",
    "    w = np.sum(alpha[I_s]*y[I_s]*x[I_s].T, axis=1) \n",
    "    b = y[I_s[0]] - np.dot(w, x[I_s[0]])\n",
    "    return w, b\n",
    "    \n",
    "\n",
    "\n",
    "def plot_solution(x, y, w, b):\n",
    "\n",
    "    plt.scatter(x[:,0], x[:,1], c=y)\n",
    "    plt.plot([-3, 3], [(-b - w[0] * (-3)) / w[1], (-b - w[0] * 3) / w[1]], 'k-')\n",
    "    #excact solution\n",
    "    plt.plot([-3, 3], [(-1 - 1 * (-3)), (-1 - 1 * 3) ], 'r--')\n",
    "    plt.show()\n",
    "\n",
    "    \n",
    "w, b = w_b(alpha, y, x, C = C)\n",
    "\n",
    "plot_solution(x, y, w, b)\n",
    "\n",
    "\n"
   ]
  },
  {
   "cell_type": "code",
   "execution_count": null,
   "metadata": {},
   "outputs": [],
   "source": [
    "niter = 500\n",
    "C = 0.006"
   ]
  },
  {
   "cell_type": "code",
   "execution_count": null,
   "metadata": {},
   "outputs": [],
   "source": [
    "\n",
    "G = pairwise_kernels(x, metric = kernal_gaussian, sigma=1)\n",
    "alpha = gradient_descent(alpha0, G, y, tau, niter, C)\n",
    "w, b = w_b(alpha, y, x)\n",
    "plot_solution(x, y, w, b)\n",
    "\n",
    "G = pairwise_kernels(x, metric = kernal_inv_multiquadratic, sigma=1)\n",
    "alpha = gradient_descent(alpha0, G, y, tau, niter, C)\n",
    "\n",
    "w, b = w_b(alpha, y, x)\n",
    "plot_solution(x, y,  w, b)\n",
    "\n",
    "\n",
    "G = pairwise_kernels(x, metric = kernal_laplacian, sigma=1)\n",
    "alpha = gradient_descent(alpha0, G, y, tau, niter, C)\n",
    "\n",
    "w, b = w_b(alpha, y, x)\n",
    "plot_solution(x, y,  w, b)\n",
    "\n",
    "\n"
   ]
  },
  {
   "cell_type": "code",
   "execution_count": null,
   "metadata": {},
   "outputs": [],
   "source": [
    "G = pairwise_kernels(x, metric = kernal_gaussian, sigma=1)\n",
    "alpha = gradient_descent(alpha0, G, y, tau, niter = 100, C=0.2)\n"
   ]
  },
  {
   "cell_type": "code",
   "execution_count": null,
   "metadata": {},
   "outputs": [],
   "source": [
    "w, b = w_b(alpha, y, x, C=0.02)\n",
    "\n",
    "plot_solution(x, y,  w, b)"
   ]
  },
  {
   "cell_type": "code",
   "execution_count": null,
   "metadata": {},
   "outputs": [],
   "source": [
    "w, b = w_b(alpha, y, x, C=0.8)\n",
    "\n",
    "plot_solution(x, y,  w, b)"
   ]
  },
  {
   "cell_type": "code",
   "execution_count": null,
   "metadata": {},
   "outputs": [],
   "source": [
    "def gradient_descent_linesearch(alpha0, G, y , tau0, niter, C=100, L = 10, tol = 1e-10):\n",
    "    \"\"\"\"\n",
    "    Gradient descent with backtracking line search\n",
    "    \n",
    "    Parameters\n",
    "    ----------\n",
    "\n",
    "    alpha0 : np.array\n",
    "        Initial point\n",
    "    G : np.array\n",
    "        Kernel matrix\n",
    "    y : np.array\n",
    "        Labels\n",
    "    tau0 : float\n",
    "        Initial step size\n",
    "    niter : int\n",
    "        Number of iterations\n",
    "    C : float\n",
    "        Regularization parameter\n",
    "    L : int\n",
    "        Number of iterations before reference function is updated\n",
    "\n",
    "    tol : float\n",
    "        Tolerance for convergence\n",
    "\n",
    "    Returns\n",
    "    -------\n",
    "    alpha : np.array\n",
    "        Optimal alpha\n",
    "    \"\"\"\n",
    "    alpha = alpha0\n",
    "    Y = np.diag(y)\n",
    "    A = np.dot(Y,np.dot(G,Y))\n",
    "    tau = tau0\n",
    "\n",
    "    f_ref = np.inf\n",
    "    f_best = f(alpha, A)\n",
    "    f_c = f_best\n",
    "    ell = 0\n",
    "    f_ks = np.zeros(niter)\n",
    "    for i in range(niter):\n",
    "\n",
    "\n",
    "        d_k = projection(alpha - tau*gradientf(alpha, A), y=y, Y=Y, C=C) - alpha\n",
    "\n",
    "        if np.max(np.abs(d_k)) < tol:\n",
    "            print(\"Converged after\", i, \"iterations\")\n",
    "            return alpha, f_ks\n",
    "        \n",
    "        if i%500 == 0:\n",
    "            print(\"Iteration\", i, \":\", np.max(np.abs(d_k))) \n",
    "        \n",
    "        f_k = f(alpha, A)\n",
    "        f_ks[i] = f_k\n",
    "        if f_k < f_best:\n",
    "            f_best = f_k\n",
    "            f_c = f_k\n",
    "            ell = 0\n",
    "        else:\n",
    "            f_c = np.max([f_c, f_k])\n",
    "            ell = ell + 1\n",
    "        if ell == L:\n",
    "            f_ref = f_c\n",
    "            f_c = f_k\n",
    "            ell = 0\n",
    "\n",
    "        \n",
    "\n",
    "        if f(alpha + d_k, A) > f_ref:\n",
    "            dot1 = np.dot(d_k, np.dot(A, d_k))\n",
    "            dot2 = np.dot(d_k, np.dot(A, alpha))\n",
    "            dot3 = np.dot(alpha, np.dot(A, d_k))\n",
    "            dot4 = np.sum(d_k)\n",
    "            theta = - (0.5*dot2 + 0.5 *dot3 - dot4)/dot1\n",
    "            # print(\"theta\", theta, np.shape(alpha), np.shape(d_k))\n",
    "            \n",
    "        else:\n",
    "            theta = 1\n",
    "\n",
    "        alpha = alpha + theta * d_k\n",
    "        \n",
    "        tau = BB_step_length(alpha-theta*d_k, alpha, gradientf, A, taumax=1e5, taumin=1e-5)\n",
    "\n",
    "\n",
    "    print(\"Did not converge after\", niter, \"iterations\")\n",
    "    \n",
    "    return alpha, f_ks"
   ]
  },
  {
   "cell_type": "code",
   "execution_count": null,
   "metadata": {},
   "outputs": [],
   "source": [
    "alpha0 = np.ones(n_A+n_B)*0.5\n",
    "\n",
    "alpha_test1, fks = gradient_descent_linesearch(alpha0, G, y, tau, niter=5000, C=0.8, L=10, tol=1e-5)\n",
    "alpha_test2 = gradient_descent(alpha0, G, y, tau, niter=5000, C=0.8, tol=1e-3)\n"
   ]
  },
  {
   "cell_type": "code",
   "execution_count": null,
   "metadata": {},
   "outputs": [],
   "source": [
    "plt.scatter(range(len(fks[1:-1])), fks[1:-1])\n",
    "plt.show()\n",
    "plt.scatter(range(len(alpha0)),alpha0)\n",
    "plt.scatter( range(len(alpha_test1)),alpha_test1)\n",
    "plt.show()"
   ]
  },
  {
   "cell_type": "code",
   "execution_count": null,
   "metadata": {},
   "outputs": [],
   "source": [
    "np.random.seed(0)\n",
    "alpha0 = np.random.rand((n_A+n_B))\n",
    "print(\"alpha0\", alpha0)"
   ]
  },
  {
   "cell_type": "code",
   "execution_count": null,
   "metadata": {},
   "outputs": [],
   "source": [
    "alpha0 = np.random.rand((n_A+n_B))\n",
    "\n",
    "niter = 3000\n",
    "alpha_line = gradient_descent_linesearch(alpha0, G, y, tau, niter, C = 0.006, L=10, tol=1e-7)\n",
    "alpha_grad = gradient_descent(alpha0, G, y, tau, niter, C=0.006, tol=1e-7)\n",
    "\n"
   ]
  },
  {
   "cell_type": "code",
   "execution_count": null,
   "metadata": {},
   "outputs": [],
   "source": [
    "alpha0 = np.ones(n_A+n_B)\n",
    "niter = 3000\n",
    "\n",
    "alpha_line1 = gradient_descent_linesearch(alpha0, G, y, tau, niter, C = 0.6, L=10, tol=1e-7)\n",
    "alpha_grad1 = gradient_descent(alpha0, G, y, tau, niter, C=0.6, tol=1e-3)\n"
   ]
  },
  {
   "cell_type": "code",
   "execution_count": null,
   "metadata": {},
   "outputs": [],
   "source": [
    "alpha0 = np.ones(n_A+n_B)* 0.5\n",
    "niter = 5000\n",
    "\n",
    "alpha_line2 = gradient_descent_linesearch(alpha0, G, y, tau, niter, C = 0.6, L=10, tol=1e-7)"
   ]
  },
  {
   "cell_type": "code",
   "execution_count": null,
   "metadata": {},
   "outputs": [],
   "source": [
    "plt.scatter(range(len(alpha0)), alpha0)\n",
    "plt.scatter(range(len(alpha_line[0])), alpha_line[0], label=\"line search\")\n",
    "# plt.scatter(range(len(alpha_test1)),alpha_test1, label=\"line search test\")\n",
    "plt.legend()\n",
    "plt.show()\n",
    "# print(alpha_line)"
   ]
  },
  {
   "cell_type": "code",
   "execution_count": null,
   "metadata": {},
   "outputs": [],
   "source": [
    "\n",
    "w, b= w_b(alpha_grad, y, x)\n",
    "print(w,b)\n",
    "plot_solution(x, y,  w, b)\n",
    "\n",
    "w, b= w_b(alpha_line[0], y, x)\n",
    "print(w,b)\n",
    "plot_solution(x, y, w, b)\n",
    "\n",
    "\n",
    "w, b = w_b(alpha_line1[0], y, x)\n",
    "print(w,b)\n",
    "plot_solution(x, y,  w, b)\n",
    "\n",
    "\n",
    "\n",
    "w, b= w_b(alpha_line2[0], y, x)\n",
    "print(w,b)\n",
    "\n",
    "plot_solution(x, y, w, b)\n",
    "\n"
   ]
  },
  {
   "cell_type": "code",
   "execution_count": null,
   "metadata": {},
   "outputs": [],
   "source": [
    "plt.scatter(range(len(fks[1:-1])), fks[1:-1], label=\"line search test\")\n",
    "plt.scatter(range(len(alpha_line[1])), alpha_line[1], label=\"line search\")\n",
    "plt.legend()\n",
    "plt.show()"
   ]
  },
  {
   "cell_type": "code",
   "execution_count": null,
   "metadata": {},
   "outputs": [],
   "source": [
    "\n",
    "def w_SVM(alpha, x, y, point_x , kernel = kernal_gaussian):\n",
    "\n",
    "    I_s = [i for i in range(len(alpha)) if alpha[i] > 0 ]\n",
    "\n",
    "    w = np.sum(alpha[I_s] * y[I_s] * kernel(x[I_s], point_x)) \n",
    "    return w\n",
    "\n",
    "def b_SVM(alpha, x, y, kernel = kernal_gaussian, C=0.6):\n",
    "\n",
    "    I_s = [i for i in range(len(alpha)) if alpha[i] > 0 and alpha[i] < C]\n",
    "    \n",
    "    b = y[I_s[0]]- np.sum(alpha[I_s]*y[I_s]*kernel(x[I_s], x[I_s[0]]))\n",
    "    return b\n",
    "\n",
    "points = np.linspace(-3, 3, 100)\n",
    "# print(alpha)\n",
    "w = [w_SVM(alpha, x, y, p) for p in points]\n",
    "b = b_SVM(alpha, x, y)\n",
    "\n",
    "plt.scatter(points, w+b, label=\"w_SVM\")\n",
    "plt.scatter(x[:,0], x[:,1], c=y)\n",
    "plt.show()\n",
    "# print(\"w, b\", w, b)\n",
    "\n",
    "# plt.plot(alpha_line1[0], label=\"line search\")"
   ]
  },
  {
   "cell_type": "code",
   "execution_count": null,
   "metadata": {},
   "outputs": [],
   "source": [
    "def projection_AL(vector, lower_bounds, upper_bounds):\n",
    "    dimension = len(vector)\n",
    "    proj_vector = np.array([])\n",
    "    for k in range(0, dimension):\n",
    "        if vector[k]<lower_bounds[k]:\n",
    "            proj_vector = np.append(proj_vector, np.array([lower_bounds[k]]))\n",
    "        elif vector[k] > upper_bounds[k]:\n",
    "            proj_vector = np.append(proj_vector, np.array([upper_bounds[k]]))\n",
    "        else:\n",
    "            proj_vector = np.append(proj_vector, np.array([vector[k]]))\n",
    "    return proj_vector"
   ]
  },
  {
   "cell_type": "code",
   "execution_count": null,
   "metadata": {},
   "outputs": [],
   "source": [
    "def BCLM(wbxis_0, d, M, C, lambd_0, mu_0, tol_1, tol_2, maxiter): #Algoritme 17.4 i boka\n",
    "    \n",
    "    tol_1_k = 1/mu_0\n",
    "    tol_2_k = 1/mu_0**(0.1)\n",
    "\n",
    "    wbxis_k = wbxis_0\n",
    "    lambd_k = lambd_0\n",
    "\n",
    "    mu_k = mu_0\n",
    "\n",
    "    for _ in range(0, maxiter):\n",
    "\n",
    "        wbxis_k = 0#solution to projected gradient descent with tolerance tol_1_k\n",
    "        distance_k = 0#wbxis_k - projection\n",
    "\n",
    "        c_k = 0#constraints evaluated at wbxis_k\n",
    "        c_k_norm = np.linalg.norm(c_k)\n",
    "\n",
    "        if c_k_norm <= tol_2_k:\n",
    "            \n",
    "            if c_k_norm <= tol_2 and distance_k <= tol_1:\n",
    "                return wbxis_k, lambd_k\n",
    "            \n",
    "            lambd_k = lambd_k - mu_k*c_k\n",
    "            tol_1_k = tol_1_k/mu_k\n",
    "            tol_2_k = tol_2_k/mu_k**(0.9)\n",
    "        \n",
    "        else:\n",
    "            mu_k = 100*mu_k\n",
    "            tol_1_k = tol_1_k/mu_k\n",
    "            tol_2_k = tol_2_k/mu_k**(0.1)"
   ]
  },
  {
   "cell_type": "code",
   "execution_count": null,
   "metadata": {},
   "outputs": [],
   "source": [
    "def AL(w, b, xi, s, lambd, mu, x, y, C): #kontroller at dette er rett\n",
    "    AL = 0.5*np.linalg.norm(w)**2\n",
    "    for i in range(0, len(xi)):\n",
    "        indreprod = np.inner(w, x[i])\n",
    "        AL = AL + C*xi[i] - lambd[i]*(y[i]*(indreprod + b) + xi[i] - s[i] - 1) + 0.5*mu*(y[i]*(indreprod + b) + xi[i] - s[i] - 1)**2\n",
    "    return AL\n",
    "\n",
    "#print(AL(np.array([1,1]),1, np.array([1,1]),np.array([1,1]), np.array([1,1]), 2, np.array([np.array([1,1]), np.array([1,1])]), np.array([1,1]), 1))"
   ]
  },
  {
   "cell_type": "code",
   "execution_count": null,
   "metadata": {},
   "outputs": [],
   "source": [
    "def grad_AL(w, b, xi, s, lambd, mu, x, y, C): #Kontroller at dette er rett\n",
    "    \n",
    "    d = len(w)\n",
    "    M = len(xi)\n",
    "    \n",
    "    grad_AL = np.array([])\n",
    "    \n",
    "    #Elements from w\n",
    "    for k in range(0, d):\n",
    "        grad_k = w[k]\n",
    "        for i in range(0, M):\n",
    "            indresum = 0\n",
    "            for l in range(0, d):\n",
    "                indresum = indresum + 2*x[i][k]*x[i][l]*w[l]\n",
    "            grad_k = grad_k - lambd[i]*y[i]*x[i][k] + 0.5*mu*(y[i]**2 * indresum + 2*y[i]**2 * b * x[i][k] + 2*y[i]*xi[i]*x[i][k] - 2*y[i]*s[i]*x[i][k] -2*y[i]*x[i][k])\n",
    "        grad_AL = np.append(grad_AL, np.array([grad_k]))\n",
    "    \n",
    "    #Elements from b\n",
    "    grad_b = 0\n",
    "    for i in range(0, M):\n",
    "        grad_b = grad_b - lambd[i]*y[i] + 0.5*mu*(2*y[i]**2*b + 2*y[i]**2*np.inner(w, x[i]) + 2*y[i]*xi[i] - 2*y[i]*s[i] - 2*y[i])\n",
    "    grad_AL = np.append(grad_AL, np.array([grad_b]))\n",
    "\n",
    "    #Elements from xi\n",
    "    for i in range(0, M):\n",
    "        grad_xi = C - lambd[i] + 0.5*mu*(2*xi[i] + 2*y[i]*np.inner(w, x[i]) + 2*y[i]*b - 2*s[i] - 2)\n",
    "        grad_AL = np.append(grad_AL, np.array([grad_xi]))\n",
    "\n",
    "    #Elements from s\n",
    "    for i in range(0, M):\n",
    "        grad_s = -lambd[i] + 0.5*mu*(2*s[i] - 2*y[i]*np.inner(w, x[i]) - 2*y[i]*b - 2*xi[i] + 2)\n",
    "        grad_AL = np.append(grad_AL, np.array([grad_s]))\n",
    "    \n",
    "    return grad_AL\n",
    "\n",
    "#print(grad_AL(np.array([1,1]),1, np.array([1,1]),np.array([1,1]), np.array([1,1]), 2, np.array([np.array([1,1]), np.array([1,1])]), np.array([1,1]), 1))"
   ]
  }
 ],
 "metadata": {
  "kernelspec": {
   "display_name": "Python 3",
   "language": "python",
   "name": "python3"
  },
  "language_info": {
   "codemirror_mode": {
    "name": "ipython",
    "version": 3
   },
   "file_extension": ".py",
   "mimetype": "text/x-python",
   "name": "python",
   "nbconvert_exporter": "python",
   "pygments_lexer": "ipython3",
   "version": "3.13.2"
  }
 },
 "nbformat": 4,
 "nbformat_minor": 2
}
