{
 "cells": [
  {
   "cell_type": "markdown",
   "metadata": {},
   "source": [
    "# This is the project in Optimization 1"
   ]
  },
  {
   "cell_type": "code",
   "execution_count": null,
   "metadata": {},
   "outputs": [],
   "source": [
    "from functions import *\n",
    "import numpy as np\n",
    "import matplotlib.pyplot as plt\n",
    "# from numpy.random import default_rng\n",
    "from sklearn.metrics.pairwise import pairwise_kernels\n",
    "from sklearn.datasets import load_iris\n",
    "from scipy.optimize import approx_fprime"
   ]
  },
  {
   "cell_type": "code",
   "execution_count": null,
   "metadata": {},
   "outputs": [],
   "source": [
    "np.random.seed(42)\n",
    "w = np.array([1.,1.])\n",
    "b = 1.\n",
    "\n",
    "n = 10\n",
    "n_A = np.random.randint(0,n)\n",
    "n_B = n-n_A\n",
    "margin = 5.e-1\n",
    "listA, listB = TestLinear(w,b,n_A,n_B,margin)\n",
    "\n",
    "x = np.concatenate((np.array(listA),np.array(listB)))\n",
    "\n",
    "y = np.concatenate((np.ones(n_A), -np.ones(n_B)))\n",
    "\n",
    "plt.scatter(x[:, 0], x[:, 1], c=y, cmap='coolwarm', edgecolors='k')\n",
    "plt.title(\"Data points\")\n",
    "plt.xlabel(\"Feature 1\")\n",
    "plt.ylabel(\"Feature 2\")\n",
    "\n",
    "plt.show()\n"
   ]
  },
  {
   "cell_type": "code",
   "execution_count": null,
   "metadata": {},
   "outputs": [],
   "source": [
    "\n",
    "alpha0 = np.zeros(n_A+n_B)\n",
    "tau = 0.1\n",
    "niter = 1000\n",
    "C = 3\n",
    "G = pairwise_kernels(x, metric = kernal_linear)  \n",
    "\n",
    "alpha = gradient_descent(alpha0, G, y, tau0=tau, niter=niter, C=C, tol=1e-7, projection=projection)\n",
    "\n",
    "w, b = w_b(alpha, y,x ,  C=C)\n",
    "plot_solution(x, y, w, b)\n",
    "\n",
    "\n",
    "C = 45\n",
    "G = pairwise_kernels(x, metric = kernal_linear)  \n",
    "\n",
    "alpha = gradient_descent(alpha0, G, y, tau0=tau, niter=niter, C=C, tol=1e-7, projection=projection)\n",
    "\n",
    "w, b = w_b(alpha, y,x ,  C=C)\n",
    "plot_solution(x, y, w, b)"
   ]
  },
  {
   "cell_type": "code",
   "execution_count": null,
   "metadata": {},
   "outputs": [],
   "source": [
    "\n",
    "alpha0 = np.zeros(n_A+n_B)\n",
    "tau = 1\n",
    "niter = 1000\n",
    "C = 50\n",
    "G = pairwise_kernels(x, metric = kernal_linear)\n",
    "\n",
    "\n",
    "alpha = gradient_descent(alpha0, G, y, tau0=tau, niter=niter, C=C, tol=1e-7, projection=projection)\n",
    "alphagrad, fks = gradient_descent_linesearch(alpha0, G, y, tau0=tau, niter=niter, C=C, tol=1e-7, project=projection)\n",
    "\n",
    "w, b = w_b(alpha, y,x ,  C=C)\n",
    "plt.title(\"Gradient descent without linesearch\")\n",
    "plot_solution(x, y, w, b)\n",
    "\n",
    "w, b = w_b(alphagrad, y,x ,  C=C)\n",
    "plt.title(\"Gradient descent with linesearch\")\n",
    "plot_solution(x, y, w, b)\n",
    "\n"
   ]
  },
  {
   "cell_type": "code",
   "execution_count": null,
   "metadata": {},
   "outputs": [],
   "source": [
    "\n",
    "plot_db(x, y, alpha, ker = kernal_linear, C=C)\n",
    "plot_db(x, y, alphagrad, ker = kernal_linear, C=C)\n"
   ]
  },
  {
   "cell_type": "markdown",
   "metadata": {},
   "source": [
    "### Testing the different kernels"
   ]
  },
  {
   "cell_type": "code",
   "execution_count": null,
   "metadata": {},
   "outputs": [],
   "source": [
    "niter = 1000\n",
    "C = 5\n",
    "\n",
    "G = pairwise_kernels(x, metric = kernal_gaussian, sigma=1)\n",
    "alpha = gradient_descent(alpha0, G, y, tau, niter, C)\n",
    "# w, b = w_b(alpha, y, x, C=C)\n",
    "# plot_solution(x, y, w, b)\n",
    "plot_db(x, y, alpha, ker = kernal_gaussian, C=C)    \n",
    "\n",
    "G = pairwise_kernels(x, metric = kernal_inv_multiquadratic, sigma=1)\n",
    "alpha = gradient_descent(alpha0, G, y, tau, niter, C)\n",
    "# w, b = w_b(alpha, y, x, C=C)\n",
    "# plot_solution(x, y,  w, b)\n",
    "plot_db(x, y, alpha, ker = kernal_inv_multiquadratic, C=C)\n",
    "\n",
    "G = pairwise_kernels(x, metric = kernal_laplacian, sigma=1)\n",
    "alpha = gradient_descent(alpha0, G, y, tau, niter, C)\n",
    "# w, b = w_b(alpha, y, x, C=C)\n",
    "# plot_solution(x, y,  w, b)\n",
    "plot_db(x, y, alpha, ker = kernal_laplacian, C=C)\n",
    "\n"
   ]
  },
  {
   "cell_type": "markdown",
   "metadata": {},
   "source": [
    "### Testing with random initial contitions"
   ]
  },
  {
   "cell_type": "code",
   "execution_count": null,
   "metadata": {},
   "outputs": [],
   "source": [
    "alpha0 = np.random.rand((n_A+n_B))\n",
    "ker = kernal_gaussian\n",
    "G = pairwise_kernels(x, metric = ker)  \n",
    "\n",
    "niter = 1000\n",
    "C = 5\n",
    "alpha_line, fk = gradient_descent_linesearch(alpha0, G, y, tau, niter, C = C, L=10, tol=1e-7)\n",
    "alpha_grad = gradient_descent(alpha0, G, y, tau, niter, C=C, tol=1e-7)\n",
    "\n",
    "plot_db(x, y, alpha_line, ker, C=C)\n",
    "plot_db(x, y, alpha_grad, ker, C=C)\n"
   ]
  },
  {
   "cell_type": "markdown",
   "metadata": {},
   "source": [
    "### Using gradient descent on the iris dataset"
   ]
  },
  {
   "cell_type": "code",
   "execution_count": null,
   "metadata": {},
   "outputs": [],
   "source": [
    "iris = load_iris()\n",
    "X = iris.data[:, :2][0:100]  # We'll use only the first two features for visualization\n",
    "Y = iris.target[0:100]  \n",
    "Y[Y == 0] = -1  # Convert to -1 and 1 for SVM\n",
    "Y[Y == 1] = 1\n",
    "\n",
    "\n",
    "plt.figure(figsize=(10, 5))\n",
    "plt.scatter(X[:, 0], X[:, 1], c=Y, cmap=plt.cm.Set1, s=50, edgecolors='k')\n",
    "plt.title('Iris Dataset (First Two Features)')\n",
    "plt.xlabel('Sepal Length (cm)')\n",
    "plt.ylabel('Sepal Width (cm)')\n",
    "plt.show()\n",
    "\n",
    "alpha0 = np.zeros(len(Y))\n",
    "ker = kernal_gaussian\n",
    "G = pairwise_kernels(X, metric=ker)\n",
    "C= 100\n",
    "\n",
    "alpha, f = gradient_descent_linesearch(alpha0, G, Y, tau0=tau, niter=niter, C=C, L=10, tol=1e-7, project=projection)\n",
    "\n",
    "plot_db(X, Y, alpha, ker=ker, C=C)"
   ]
  },
  {
   "cell_type": "markdown",
   "metadata": {},
   "source": [
    "### Bound constrained lagrangian method"
   ]
  },
  {
   "cell_type": "code",
   "execution_count": null,
   "metadata": {},
   "outputs": [],
   "source": [
    "d = len(x[0])\n",
    "M = len(x)\n",
    "epsilon = 1e-7\n",
    "\n",
    "C = 10\n",
    "\n",
    "startpunkt = np.ones(d+1+2*M)\n",
    "lambd_0 = np.ones(M)\n",
    "mu_0 = 10\n",
    "tol_1 = 1e-7\n",
    "tol_2 = 1e-7\n",
    "maxiter = 1000\n",
    "\n",
    "AL_par = [lambd_0, mu_0, d, M, x, y, C]\n",
    "gradAL_par = [lambd_0, mu_0, d, M, x, y, C]\n",
    "constr_par = [x, y]\n",
    "\n",
    "lower_bound = np.append([- np.inf]*(d+1), [0]*2*M)\n",
    "upper_bound = [np.inf]*(d+1+2*M)\n",
    "project_par = [lower_bound, upper_bound]\n",
    "                                         \n",
    "linesearch_par = [lambd_0, mu_0, d, M, x, y, C]\n",
    "\n",
    "BCLM(startpunkt, lambd_0, mu_0, tol_1, tol_2, maxiter, AL, AL_par, constraints, constr_par, grad_AL, gradAL_par, projection_AL, project_par, linesearch_AL, linesearch_par)"
   ]
  },
  {
   "cell_type": "code",
   "execution_count": null,
   "metadata": {},
   "outputs": [],
   "source": []
  }
 ],
 "metadata": {
  "kernelspec": {
   "display_name": "Python 3",
   "language": "python",
   "name": "python3"
  },
  "language_info": {
   "codemirror_mode": {
    "name": "ipython",
    "version": 3
   },
   "file_extension": ".py",
   "mimetype": "text/x-python",
   "name": "python",
   "nbconvert_exporter": "python",
   "pygments_lexer": "ipython3",
   "version": "3.13.1"
  }
 },
 "nbformat": 4,
 "nbformat_minor": 2
}
