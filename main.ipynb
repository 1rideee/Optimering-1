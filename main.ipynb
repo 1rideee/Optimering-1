{
 "cells": [
  {
   "cell_type": "markdown",
   "metadata": {},
   "source": [
    "# This is the project in Optimization 1"
   ]
  },
  {
   "cell_type": "code",
   "execution_count": null,
   "metadata": {},
   "outputs": [],
   "source": [
    "from functions import *\n",
    "\n",
    "import numpy as np\n",
    "import matplotlib.pyplot as plt\n",
    "from numpy.random import default_rng\n",
    "from sklearn.metrics.pairwise import pairwise_kernels\n"
   ]
  },
  {
   "cell_type": "code",
   "execution_count": null,
   "metadata": {},
   "outputs": [],
   "source": [
    "w = np.array([1.,1.])\n",
    "b = 1.\n",
    "\n",
    "n= 100\n",
    "n_A = np.random.randint(0,n)\n",
    "n_B = n-n_A\n",
    "margin = 5.e-1\n",
    "listA,listB = TestLinear(w,b,n_A,n_B,margin)\n",
    "[plt.scatter(x[0],x[1],color=\"r\") for x in listA]\n",
    "[plt.scatter(x[0],x[1],color=\"b\") for x in listB]\n",
    "plt.show()\n"
   ]
  },
  {
   "cell_type": "code",
   "execution_count": null,
   "metadata": {},
   "outputs": [],
   "source": [
    "x= np.concatenate((np.array(listA),np.array(listB)))\n",
    "\n",
    "y = np.concatenate((np.ones(n_A), -np.ones(n_B)))\n",
    "\n",
    "\n",
    "G = pairwise_kernels(x, metric = kernal_gaussian, sigma = 1)\n",
    "\n",
    "print(np.shape(G))\n"
   ]
  },
  {
   "cell_type": "markdown",
   "metadata": {},
   "source": [
    "### Projected gradient descent algorithm\n",
    "\n",
    "\\begin{align*}\n",
    "    \\alpha^{(k+1)} &= \\alpha^{(k)}+ d^{(k)}\\\\\n",
    "    \\text{where}&\\\\\n",
    "    d^{(k)} & = \\pi _{\\Omega} \\left(\\alpha^{(k)}-\\tau_k \\nabla f(\\alpha^{(k)}) \\right) - \\alpha^{(k)}\n",
    "\\end{align*}\n",
    "\n",
    "\\begin{align*}\n",
    "    f(\\alpha) &:= \\frac{1}{2} \\langle\\alpha, YGY\\alpha\\rangle- \\langle1_M,\\alpha\\rangle\\\\\n",
    "    \\Omega &= \\{\\alpha \\in \\mathbb{R}^M : \\langle y, \\alpha \\rangle=0 \\quad \\text{and} \\quad 0\\leq \\alpha \\leq C \\}\n",
    "\\end{align*}\n",
    "\n",
    "is a feasible set, $\\pi_{\\Omega}$ denotes the projection onto $\\Omega$ and $\\tau_k >0$ is a suitible steplength.\n",
    "\n",
    "\n"
   ]
  },
  {
   "cell_type": "code",
   "execution_count": null,
   "metadata": {},
   "outputs": [],
   "source": [
    "\n",
    "alpha0 = np.ones(n_A+n_B)\n",
    "tau = 0.01\n",
    "niter = 1000\n",
    "C = 0.8\n",
    "# alpha = gradient_descent(alpha0, G, y, tau, niter, C=0.8, tol=1e-1)\n",
    "# print(alpha)\n",
    "\n"
   ]
  },
  {
   "cell_type": "code",
   "execution_count": null,
   "metadata": {},
   "outputs": [],
   "source": [
    "alpha = gradient_descent(alpha0, G, y, tau, niter=100, C=0.8, tol=1e-7)\n",
    "# print(alpha)"
   ]
  },
  {
   "cell_type": "code",
   "execution_count": null,
   "metadata": {},
   "outputs": [],
   "source": [
    "def w_b(alpha, y, x, C=0.8):\n",
    "    I_s = np.where(alpha > 0)\n",
    "    w = np.sum(alpha[I_s]*y[I_s]*x[I_s].T, axis=1) \n",
    "    temp = np.where(alpha[I_s]<C)\n",
    "    print()\n",
    "    index = temp[0][0]\n",
    "    b = y[index] - np.dot(w,x[index])\n",
    "    return w, b\n",
    "    \n",
    "\n",
    "\n",
    "def plot_solution(x, y, alpha, w, b):\n",
    "\n",
    "    plt.scatter(x[:,0], x[:,1], c=y)\n",
    "    plt.plot([-3, 3], [(b - w[0] * (-3)) / w[1], (b - w[0] * 3) / w[1]], 'k-')\n",
    "    #excact solution\n",
    "    plt.plot([-3, 3], [(1 - 1 * (-3)), (1 - 1 * 3) ], 'r--')\n",
    "    plt.show()\n",
    "\n",
    "    \n",
    "w, b = w_b(alpha, y, x, C=0.8)\n",
    "\n",
    "plot_solution(x, y, alpha, w, b)\n",
    "\n",
    "\n"
   ]
  },
  {
   "cell_type": "code",
   "execution_count": null,
   "metadata": {},
   "outputs": [],
   "source": [
    "\n",
    "G = pairwise_kernels(x, metric = kernal_gaussian, sigma=0.5)\n",
    "alpha = gradient_descent(alpha0, G, y, tau, niter, C=0.8)\n",
    "\n",
    "print(alpha)\n",
    "w, b= w_b(alpha, y, x)\n",
    "plot_solution(x, y, alpha, w, b)\n",
    "\n",
    "G = pairwise_kernels(x, metric = kernal_inv_multiquadratic, sigma=0.5)\n",
    "alpha = gradient_descent(alpha0, G, y, tau, niter, C=0.8)\n",
    "\n",
    "w, b= w_b(alpha, y, x)\n",
    "plot_solution(x, y, alpha, w, b)\n",
    "\n",
    "\n",
    "G = pairwise_kernels(x, metric = kernal_laplacian, sigma=0.5)\n",
    "alpha = gradient_descent(alpha0, G, y, tau, niter, C=0.8)\n",
    "\n",
    "w, b= w_b(alpha, y, x)\n",
    "plot_solution(x, y, alpha, w, b)\n",
    "\n",
    "\n"
   ]
  },
  {
   "cell_type": "code",
   "execution_count": null,
   "metadata": {},
   "outputs": [],
   "source": [
    "def gradient_descent_linesearch(alpha0, G, y , tau0, niter, C=100, L = 10, tol = 1e-10):\n",
    "    alpha = alpha0\n",
    "    Y = np.diag(y)\n",
    "    A = np.dot(Y,np.dot(G,Y))\n",
    "    tau = tau0\n",
    "\n",
    "    f_ref = np.inf\n",
    "    f_best = f(alpha, A)\n",
    "    f_c = f_best\n",
    "    ell = 0\n",
    "    f_ks = np.zeros(niter)\n",
    "    for i in range(niter):\n",
    "\n",
    "\n",
    "        d_k = projection(alpha - tau*gradientf(alpha, A), y=y, Y=Y, C=C) - alpha\n",
    "\n",
    "        if np.max(np.abs(d_k)) < tol:\n",
    "            print(\"Converged after\", i, \"iterations\")\n",
    "            return alpha, f_ks\n",
    "        \n",
    "        \n",
    "        f_k = f(alpha, A)\n",
    "        f_ks[i] = f_k\n",
    "        if f_k < f_best:\n",
    "            f_best = f_k\n",
    "            f_c = f_k\n",
    "            ell = 0\n",
    "        else:\n",
    "            f_c = np.max([f_c, f_k])\n",
    "            ell = ell + 1\n",
    "        if ell == L:\n",
    "            f_ref = f_c\n",
    "            f_c = f_k\n",
    "            ell = 0\n",
    "\n",
    "        if ell!=0:\n",
    "            print(ell, end=\" \")\n",
    "\n",
    "        if f(alpha + d_k, A) > f_ref:\n",
    "            dot1 = np.dot(d_k, np.dot(A, d_k))\n",
    "            dot2 = np.dot(d_k, np.dot(A, alpha))\n",
    "            dot3 = np.dot(alpha, np.dot(A, d_k))\n",
    "            dot4 = np.sum(d_k)\n",
    "            theta = - (0.5*dot2 + 0.5 *dot3 - dot4)/dot1\n",
    "            print(\"theta\", theta, np.shape(alpha), np.shape(d_k))\n",
    "            \n",
    "        else:\n",
    "            theta = 1\n",
    "\n",
    "        alpha = alpha + theta * d_k\n",
    "        \n",
    "        tau = BB_step_length(alpha-theta*d_k, alpha, gradientf, A, taumax=1e5, taumin=1e-5)\n",
    "\n",
    "\n",
    "    print(\"Did not converge after\", niter, \"iterations\")\n",
    "    \n",
    "    return alpha, f_ks"
   ]
  },
  {
   "cell_type": "code",
   "execution_count": null,
   "metadata": {},
   "outputs": [],
   "source": [
    "alpha0 = np.ones(n_A+n_B)*0.5\n",
    "\n",
    "alpha_test1, fks = gradient_descent_linesearch(alpha0, G, y, tau, niter=5000, C=0.8, L=10, tol=1e-5)\n",
    "alpha_test2 = gradient_descent(alpha0, G, y, tau, niter=5000, C=0.8, tol=1e-3)\n"
   ]
  },
  {
   "cell_type": "code",
   "execution_count": null,
   "metadata": {},
   "outputs": [],
   "source": [
    "plt.scatter(range(len(fks[1:-1])), fks[1:-1])\n",
    "plt.show()\n",
    "plt.scatter(range(len(alpha0)),alpha0)\n",
    "plt.scatter( range(len(alpha_test1)),alpha_test1)\n",
    "plt.show()"
   ]
  },
  {
   "cell_type": "code",
   "execution_count": null,
   "metadata": {},
   "outputs": [],
   "source": [
    "np.random.seed(0)\n",
    "alpha0 = np.random.rand((n_A+n_B))\n",
    "print(\"alpha0\", alpha0)"
   ]
  },
  {
   "cell_type": "code",
   "execution_count": null,
   "metadata": {},
   "outputs": [],
   "source": [
    "alpha0 = np.random.rand((n_A+n_B))\n",
    "\n",
    "niter = 5000\n",
    "alpha_line= gradient_descent_linesearch(alpha0, G, y, tau, niter, C=100, L=10, tol=1e-5)\n",
    "alpha_grad = gradient_descent(alpha0, G, y, tau, niter, C=0.8, tol=1e-3)\n"
   ]
  },
  {
   "cell_type": "code",
   "execution_count": null,
   "metadata": {},
   "outputs": [],
   "source": [
    "plt.scatter(range(len(alpha0)), alpha0)\n",
    "plt.scatter(range(len(alpha_line[0])), alpha_line[0], label=\"line search\")\n",
    "plt.scatter(range(len(alpha_test1)),alpha_test1, label=\"line search test\")\n",
    "plt.legend()\n",
    "plt.show()\n",
    "# print(alpha_line)"
   ]
  },
  {
   "cell_type": "code",
   "execution_count": null,
   "metadata": {},
   "outputs": [],
   "source": [
    "w, b= w_b(alpha_test1, y, x)\n",
    "print(w,b)\n",
    "plot_solution(x, y, alpha_test1, w, b)\n",
    "w, b= w_b(alpha_line[0], y, x)\n",
    "print(w,b)\n",
    "\n",
    "plot_solution(x, y, alpha_line[0], w, b)\n"
   ]
  },
  {
   "cell_type": "code",
   "execution_count": null,
   "metadata": {},
   "outputs": [],
   "source": [
    "plt.scatter(range(len(fks[1:-1])), fks[1:-1], label=\"line search test\")\n",
    "plt.scatter(range(len(alpha_line[1])), alpha_line[1], label=\"line search\")\n",
    "plt.legend()\n",
    "plt.show()"
   ]
  }
 ],
 "metadata": {
  "kernelspec": {
   "display_name": "Python 3",
   "language": "python",
   "name": "python3"
  },
  "language_info": {
   "codemirror_mode": {
    "name": "ipython",
    "version": 3
   },
   "file_extension": ".py",
   "mimetype": "text/x-python",
   "name": "python",
   "nbconvert_exporter": "python",
   "pygments_lexer": "ipython3",
   "version": "3.13.1"
  }
 },
 "nbformat": 4,
 "nbformat_minor": 2
}
